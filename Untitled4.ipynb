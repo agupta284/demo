{
 "cells": [
  {
   "cell_type": "code",
   "execution_count": 1,
   "metadata": {},
   "outputs": [],
   "source": [
    "import time\n",
    "import numpy as np\n",
    "import pandas as pd"
   ]
  },
  {
   "cell_type": "code",
   "execution_count": 10,
   "metadata": {},
   "outputs": [],
   "source": [
    "df1= pd.DataFrame(columns=['Method',100,1000,10000,100000])\n",
    "df1['Method'] = ['For Loop','iterrows()','apply()','Vectorization']\n",
    "df1.set_index('Method',inplace = True)"
   ]
  },
  {
   "cell_type": "code",
   "execution_count": 3,
   "metadata": {},
   "outputs": [],
   "source": [
    "def calculate_distance(lt1, ln1, lt2, ln2):\n",
    "    R = 6373.0\n",
    "    \n",
    "    \n",
    "    lat1 = np.deg2rad(lt1)\n",
    "    \n",
    "    lon1 = np.deg2rad(ln1)\n",
    "    lat2 = np.deg2rad(lt2)\n",
    "    lon2 = np.deg2rad(ln2)\n",
    "    \n",
    "    dlon = lon2 - lon1\n",
    "    \n",
    "    dlat = lat2 - lat1\n",
    "    \n",
    "    a = np.sin(dlat / 2)**2 + np.cos(lat1) * np.cos(lat2) *np.sin(dlon / 2)**2\n",
    "    \n",
    "    c = 2 * np.arcsin(np.sqrt(a))\n",
    "    distance = R * c\n",
    "    return distance"
   ]
  },
  {
   "cell_type": "code",
   "execution_count": 4,
   "metadata": {},
   "outputs": [],
   "source": [
    "def For_loop(df):\n",
    "    start = time.time()\n",
    "    latitude = 11.111111\n",
    "    longitude = 121.222222\n",
    "    for i in range(0, len(df)):\n",
    "            d = calculate_distance(latitude, longitude, \n",
    "                                   df.iloc[i]['lat'], df.iloc[i]['lon'])\n",
    "    end = time.time()\n",
    "    for_time = end - start\n",
    "    print(1)\n",
    "    return for_time"
   ]
  },
  {
   "cell_type": "code",
   "execution_count": 5,
   "metadata": {},
   "outputs": [],
   "source": [
    "def iterrow(df):\n",
    "    start = time.time()\n",
    "    latitude = 11.111111\n",
    "    longitude = 121.222222\n",
    "    for index, row in df.iterrows():\n",
    "        calculate_distance(latitude, longitude, row['lat'], row['lon'])\n",
    "    end = time.time()\n",
    "    iter_time = end - start\n",
    "    print(2)\n",
    "    return iter_time        "
   ]
  },
  {
   "cell_type": "code",
   "execution_count": 6,
   "metadata": {},
   "outputs": [],
   "source": [
    "def Apply(df):\n",
    "    start = time.time()\n",
    "    latitude = 11.111111\n",
    "    longitude = 121.222222\n",
    "    df.apply(lambda row: calculate_distance(latitude,longitude, row['lat'], row['lon']), axis=1)\n",
    "    end = time.time()\n",
    "    apply_time = end - start\n",
    "    print(3)\n",
    "    return apply_time "
   ]
  },
  {
   "cell_type": "code",
   "execution_count": 7,
   "metadata": {},
   "outputs": [],
   "source": [
    "def Vectorization(df):\n",
    "    start = time.time()\n",
    "    latitude = 11.111111\n",
    "    longitude = 121.222222\n",
    "    calculate_distance(latitude, longitude,df['lat'].values, df['lon'].values)\n",
    "    end = time.time()\n",
    "    vect_time = end - start\n",
    "    print(4)\n",
    "    return vect_time"
   ]
  },
  {
   "cell_type": "code",
   "execution_count": 8,
   "metadata": {},
   "outputs": [],
   "source": [
    "def generate_data(rows):\n",
    "    df = pd.DataFrame(columns =['lat', 'lon'])\n",
    "    df['lat'] = np.random.randint(9999999, 99999999, rows)/1000000\n",
    "    df['lon'] = np.random.randint(9999999, 99999999, rows)/1000000\n",
    "    return df\n"
   ]
  },
  {
   "cell_type": "code",
   "execution_count": null,
   "metadata": {},
   "outputs": [
    {
     "name": "stdout",
     "output_type": "stream",
     "text": [
      "1\n",
      "2\n",
      "3\n",
      "4\n",
      "1\n",
      "2\n",
      "3\n",
      "4\n",
      "1\n",
      "2\n",
      "3\n",
      "4\n",
      "1\n",
      "2\n"
     ]
    }
   ],
   "source": [
    "list_rows = [100,1000,10000,100000]\n",
    "for row in list_rows:\n",
    "    df = generate_data(row)\n",
    "    i = 0\n",
    "    df1[row].iloc[i] = For_loop(df)\n",
    "    i +=1\n",
    "    df1[row].iloc[i] = iterrow(df)\n",
    "    i +=1\n",
    "    df1[row].iloc[i] = Apply(df)\n",
    "    i +=1\n",
    "    df1[row].iloc[i] = Vectorization(df)\n",
    "df1  "
   ]
  },
  {
   "cell_type": "code",
   "execution_count": null,
   "metadata": {},
   "outputs": [],
   "source": []
  }
 ],
 "metadata": {
  "kernelspec": {
   "display_name": "Python 3",
   "language": "python",
   "name": "python3"
  },
  "language_info": {
   "codemirror_mode": {
    "name": "ipython",
    "version": 3
   },
   "file_extension": ".py",
   "mimetype": "text/x-python",
   "name": "python",
   "nbconvert_exporter": "python",
   "pygments_lexer": "ipython3",
   "version": "3.7.6"
  }
 },
 "nbformat": 4,
 "nbformat_minor": 4
}
